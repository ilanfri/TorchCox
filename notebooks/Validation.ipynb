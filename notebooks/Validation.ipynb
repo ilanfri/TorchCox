{
 "cells": [
  {
   "cell_type": "code",
   "execution_count": 1,
   "metadata": {},
   "outputs": [],
   "source": [
    "%load_ext autoreload\n",
    "%autoreload 2"
   ]
  },
  {
   "cell_type": "code",
   "execution_count": 2,
   "metadata": {},
   "outputs": [],
   "source": [
    "from torchcox import TorchCox\n",
    "\n",
    "import numpy as np\n",
    "import torch\n",
    "import pandas as pd"
   ]
  },
  {
   "cell_type": "markdown",
   "metadata": {},
   "source": [
    "We use two datasets for validation of our Cox model: one synthetic and one real"
   ]
  },
  {
   "cell_type": "markdown",
   "metadata": {},
   "source": [
    "# Validation against closed-form MLE fit"
   ]
  },
  {
   "cell_type": "markdown",
   "metadata": {},
   "source": [
    "A synthetic dataset for which we can fit the Cox partial likelihood Maximum Likelihood Estimate by hand, to validate numerical PyTorch implementation against."
   ]
  },
  {
   "cell_type": "code",
   "execution_count": 3,
   "metadata": {},
   "outputs": [
    {
     "data": {
      "text/html": [
       "<div>\n",
       "<style scoped>\n",
       "    .dataframe tbody tr th:only-of-type {\n",
       "        vertical-align: middle;\n",
       "    }\n",
       "\n",
       "    .dataframe tbody tr th {\n",
       "        vertical-align: top;\n",
       "    }\n",
       "\n",
       "    .dataframe thead th {\n",
       "        text-align: right;\n",
       "    }\n",
       "</style>\n",
       "<table border=\"1\" class=\"dataframe\">\n",
       "  <thead>\n",
       "    <tr style=\"text-align: right;\">\n",
       "      <th></th>\n",
       "      <th>id</th>\n",
       "      <th>time</th>\n",
       "      <th>status</th>\n",
       "      <th>smoke</th>\n",
       "    </tr>\n",
       "  </thead>\n",
       "  <tbody>\n",
       "    <tr>\n",
       "      <th>0</th>\n",
       "      <td>Bob</td>\n",
       "      <td>1</td>\n",
       "      <td>1</td>\n",
       "      <td>1</td>\n",
       "    </tr>\n",
       "    <tr>\n",
       "      <th>1</th>\n",
       "      <td>Sally</td>\n",
       "      <td>3</td>\n",
       "      <td>1</td>\n",
       "      <td>0</td>\n",
       "    </tr>\n",
       "    <tr>\n",
       "      <th>2</th>\n",
       "      <td>James</td>\n",
       "      <td>6</td>\n",
       "      <td>0</td>\n",
       "      <td>0</td>\n",
       "    </tr>\n",
       "    <tr>\n",
       "      <th>3</th>\n",
       "      <td>Ann</td>\n",
       "      <td>10</td>\n",
       "      <td>1</td>\n",
       "      <td>1</td>\n",
       "    </tr>\n",
       "  </tbody>\n",
       "</table>\n",
       "</div>"
      ],
      "text/plain": [
       "      id  time  status  smoke\n",
       "0    Bob     1       1      1\n",
       "1  Sally     3       1      0\n",
       "2  James     6       0      0\n",
       "3    Ann    10       1      1"
      ]
     },
     "execution_count": 3,
     "metadata": {},
     "output_type": "execute_result"
    }
   ],
   "source": [
    "valdf = pd.DataFrame({'id':['Bob','Sally','James','Ann'], 'time':[1,3,6,10], 'status':[1,1,0,1], 'smoke':[1,0,0,1]})\n",
    "valdf"
   ]
  },
  {
   "cell_type": "markdown",
   "metadata": {},
   "source": [
    "Specify model Cox(t,d ~ smoke) for times $t$ and status indicator $d$.  \n",
    "$L(T, D, X) = \\prod_{t_i^e} \\frac{h(t_i^e,X_i)}{\\sum_{j:\\, t_j \\geq t_i^e} h(t_j, X_j)}$  \n",
    "\n",
    "where $t_i^e$ denote event times (i.e. times where $d=1$), and $t_i$ denotes all times (whether event or censored).  \n",
    "\n",
    "In this way the ratio $\\frac{h(t_i^e,X_i)}{\\sum_{j:\\, t_j \\geq t_i} h(t_j, X_j)}$ is the ratio of the hazard for the event observed at time $t_i^e$ divided by the sum of hazards for all subjects at risk at that time (so with $t_j \\geq t_i^e$, i.e. have not had an event yet, have not died, so still at risk, including the subject who had an event at that time since that person must have been at risk too, so inequality includes time $t_i^e$).  "
   ]
  },
  {
   "cell_type": "markdown",
   "metadata": {},
   "source": [
    "We therefore see that for each of the subjects in the data just above the hazard, $h(t, X) = h_0(t)\\,\\exp(X \\beta)$, is:  \n",
    "- Bob: $h(t, X) = h_0(t)\\,\\exp(\\beta)$\n",
    "- Sally: $h(t, X) = h_0(t)\\,\\exp(0)$\n",
    "- James: $h(t, X) = h_0(t)\\,\\exp(0)$\n",
    "- Ann: $h(t, X) = h_0(t)\\,\\exp(\\beta)$"
   ]
  },
  {
   "cell_type": "markdown",
   "metadata": {},
   "source": [
    "The likelihood for this dataset then has three factors, one for each event time, and in each factor is the hazard of the person who had the event divided by the sum of the hazards of all the people who were still at risk then (including the person who had the event:  \n",
    "  \n",
    "$\n",
    "\\begin{align}\n",
    "L(T, D, X) = &\\left[\\frac{h_0(t)\\exp(\\beta)}{h_0(t)\\exp(\\beta) \\,+\\, h_0(t)\\exp(0) \\,+\\, h_0(t)\\exp(0) \\,+\\, h_0(t)\\exp(\\beta)} \\right] \\\\\n",
    "&\\times \\left[ \\frac{h_0(t)\\exp(0)}{h_0(t)\\exp(0) \\,+\\, h_0(t)\\exp(0) \\,+\\, h_0(t)\\exp(\\beta)} \\right] \\\\\n",
    "&\\times \\left[ \\frac{h_0(t)\\exp(\\beta)}{h_0(t)\\exp(\\beta)} \\right]\n",
    "\\end{align}$"
   ]
  },
  {
   "cell_type": "markdown",
   "metadata": {},
   "source": [
    "Note that the baseline hazard, $h_0(t)$ will always cancel everywhere in the likelihood. We then have:  \n",
    "  \n",
    "$\\begin{align}\n",
    "L(T, D, X) &= \\left[\\frac{\\exp(\\beta)}{2(1 + \\exp(\\beta))} \\right] \\times \\left[ \\frac{1}{2+ \\exp(\\beta)} \\right] \\times 1\n",
    "\\end{align}\n",
    "$"
   ]
  },
  {
   "cell_type": "markdown",
   "metadata": {},
   "source": [
    "Take the natural logarithm of this as the logarithm is a monotone transformation and will not change the position of the minimum, but will simplify the computation of the derivative and make the computation more numerically stable. Also we multipy it by $-1$ so that to maximise the likelihood we minimise the quantity below."
   ]
  },
  {
   "cell_type": "markdown",
   "metadata": {},
   "source": [
    "$-\\ln[L(T,D,X)] = -\\beta +\\ln[2(1+\\exp(\\beta)] - \\ln[1] + \\ln[2+\\exp(\\beta)]$"
   ]
  },
  {
   "cell_type": "markdown",
   "metadata": {},
   "source": [
    "Taking the derivative of this wrt $\\beta$ gives  \n",
    "$\\begin{align}\n",
    "-\\frac{d}{d\\beta} \\ln[L(T,D,X)] &= -1 + \\frac{d}{d\\beta}\\ln[(1+\\exp(\\beta)] + \\frac{d}{d\\beta}\\ln[2+\\exp(\\beta)] \\\\\n",
    "&= -1 + \\frac{1}{1+\\exp(\\beta)}\\exp(\\beta) + \\frac{1}{2+\\exp(\\beta)}\\exp(\\beta)\n",
    "\\end{align}$"
   ]
  },
  {
   "cell_type": "markdown",
   "metadata": {},
   "source": [
    "Setting this equal to zero, $-\\frac{d}{d\\beta} \\ln[L(T,D,X)] = 0$, gives  \n",
    "$1 = \\frac{\\exp(\\beta)}{1+\\exp(\\beta)} + \\frac{\\exp(\\beta)}{2+\\exp(\\beta)}$"
   ]
  },
  {
   "cell_type": "markdown",
   "metadata": {},
   "source": [
    "So that this is the equation we need to solve for $\\beta$ to find the stationary point (hopefully a minimum, we haven't shown it but this score function is convex so this is indeed a minimum), and this will be the Maximum Likelihood Estimate (MLE) for $\\beta$."
   ]
  },
  {
   "cell_type": "markdown",
   "metadata": {},
   "source": [
    "This gives $\\beta = \\ln(2)/2 \\approx 0.34657$"
   ]
  },
  {
   "cell_type": "markdown",
   "metadata": {},
   "source": [
    "(Note that we chose the solution in the Reals here, the solution is in fact $\\beta = \\ln(\\sqrt{2})$ where the square root has two solutions and only the positive one gives a real value for $\\beta$.)"
   ]
  },
  {
   "cell_type": "markdown",
   "metadata": {},
   "source": [
    "Now we fit our Cox model code to verify that we indeed obtain the closed-form answer as expected"
   ]
  },
  {
   "cell_type": "code",
   "execution_count": 4,
   "metadata": {},
   "outputs": [
    {
     "name": "stdout",
     "output_type": "stream",
     "text": [
      "[0.34657338]\n"
     ]
    },
    {
     "data": {
      "text/plain": [
       "0.34657338"
      ]
     },
     "execution_count": 4,
     "metadata": {},
     "output_type": "execute_result"
    }
   ],
   "source": [
    "tname = 'time'\n",
    "Xnames = ['smoke']\n",
    "dname = 'status'\n",
    "\n",
    "coxmod1 = TorchCox.TorchCox(lr=1)\n",
    "\n",
    "coxmod1.fit(valdf, Xnames=Xnames, tname=tname, dname=dname)\n",
    "\n",
    "coxmod1.beta.detach().numpy()[0]"
   ]
  },
  {
   "cell_type": "markdown",
   "metadata": {},
   "source": [
    "And we do! :)"
   ]
  },
  {
   "cell_type": "code",
   "execution_count": 5,
   "metadata": {},
   "outputs": [
    {
     "data": {
      "text/plain": [
       "0.34657359027997264"
      ]
     },
     "execution_count": 5,
     "metadata": {},
     "output_type": "execute_result"
    }
   ],
   "source": [
    "np.log(2)/2"
   ]
  },
  {
   "cell_type": "markdown",
   "metadata": {},
   "source": [
    "# Validation against R's `survival` package"
   ]
  },
  {
   "cell_type": "markdown",
   "metadata": {},
   "source": [
    "Now we will compare our result against the R package 'survival' on another dataset."
   ]
  },
  {
   "cell_type": "code",
   "execution_count": 6,
   "metadata": {},
   "outputs": [
    {
     "data": {
      "text/html": [
       "<div>\n",
       "<style scoped>\n",
       "    .dataframe tbody tr th:only-of-type {\n",
       "        vertical-align: middle;\n",
       "    }\n",
       "\n",
       "    .dataframe tbody tr th {\n",
       "        vertical-align: top;\n",
       "    }\n",
       "\n",
       "    .dataframe thead th {\n",
       "        text-align: right;\n",
       "    }\n",
       "</style>\n",
       "<table border=\"1\" class=\"dataframe\">\n",
       "  <thead>\n",
       "    <tr style=\"text-align: right;\">\n",
       "      <th></th>\n",
       "      <th>tyears</th>\n",
       "      <th>d</th>\n",
       "      <th>Karn</th>\n",
       "      <th>Broders</th>\n",
       "      <th>FIGO</th>\n",
       "      <th>Ascites</th>\n",
       "      <th>Diam</th>\n",
       "      <th>id</th>\n",
       "    </tr>\n",
       "  </thead>\n",
       "  <tbody>\n",
       "    <tr>\n",
       "      <th>0</th>\n",
       "      <td>0.024657</td>\n",
       "      <td>1</td>\n",
       "      <td>8</td>\n",
       "      <td>2.0</td>\n",
       "      <td>IV</td>\n",
       "      <td>1</td>\n",
       "      <td>1-2cm</td>\n",
       "      <td>281</td>\n",
       "    </tr>\n",
       "    <tr>\n",
       "      <th>1</th>\n",
       "      <td>0.027398</td>\n",
       "      <td>1</td>\n",
       "      <td>6</td>\n",
       "      <td>NaN</td>\n",
       "      <td>IV</td>\n",
       "      <td>1</td>\n",
       "      <td>&gt;5cm</td>\n",
       "      <td>298</td>\n",
       "    </tr>\n",
       "    <tr>\n",
       "      <th>2</th>\n",
       "      <td>0.035617</td>\n",
       "      <td>1</td>\n",
       "      <td>8</td>\n",
       "      <td>2.0</td>\n",
       "      <td>IV</td>\n",
       "      <td>1</td>\n",
       "      <td>&gt;5cm</td>\n",
       "      <td>342</td>\n",
       "    </tr>\n",
       "    <tr>\n",
       "      <th>3</th>\n",
       "      <td>0.041094</td>\n",
       "      <td>1</td>\n",
       "      <td>7</td>\n",
       "      <td>2.0</td>\n",
       "      <td>III</td>\n",
       "      <td>0</td>\n",
       "      <td>&lt;1cm</td>\n",
       "      <td>228</td>\n",
       "    </tr>\n",
       "    <tr>\n",
       "      <th>4</th>\n",
       "      <td>0.082192</td>\n",
       "      <td>1</td>\n",
       "      <td>7</td>\n",
       "      <td>3.0</td>\n",
       "      <td>IV</td>\n",
       "      <td>1</td>\n",
       "      <td>&lt;1cm</td>\n",
       "      <td>52</td>\n",
       "    </tr>\n",
       "    <tr>\n",
       "      <th>...</th>\n",
       "      <td>...</td>\n",
       "      <td>...</td>\n",
       "      <td>...</td>\n",
       "      <td>...</td>\n",
       "      <td>...</td>\n",
       "      <td>...</td>\n",
       "      <td>...</td>\n",
       "      <td>...</td>\n",
       "    </tr>\n",
       "    <tr>\n",
       "      <th>299</th>\n",
       "      <td>7.060274</td>\n",
       "      <td>0</td>\n",
       "      <td>10</td>\n",
       "      <td>3.0</td>\n",
       "      <td>III</td>\n",
       "      <td>0</td>\n",
       "      <td>&gt;5cm</td>\n",
       "      <td>101</td>\n",
       "    </tr>\n",
       "    <tr>\n",
       "      <th>300</th>\n",
       "      <td>7.112330</td>\n",
       "      <td>0</td>\n",
       "      <td>10</td>\n",
       "      <td>1.0</td>\n",
       "      <td>III</td>\n",
       "      <td>1</td>\n",
       "      <td>&gt;5cm</td>\n",
       "      <td>93</td>\n",
       "    </tr>\n",
       "    <tr>\n",
       "      <th>301</th>\n",
       "      <td>7.120548</td>\n",
       "      <td>0</td>\n",
       "      <td>9</td>\n",
       "      <td>2.0</td>\n",
       "      <td>III</td>\n",
       "      <td>1</td>\n",
       "      <td>&lt;1cm</td>\n",
       "      <td>40</td>\n",
       "    </tr>\n",
       "    <tr>\n",
       "      <th>302</th>\n",
       "      <td>7.290410</td>\n",
       "      <td>0</td>\n",
       "      <td>9</td>\n",
       "      <td>2.0</td>\n",
       "      <td>IV</td>\n",
       "      <td>1</td>\n",
       "      <td>1-2cm</td>\n",
       "      <td>81</td>\n",
       "    </tr>\n",
       "    <tr>\n",
       "      <th>303</th>\n",
       "      <td>7.476712</td>\n",
       "      <td>0</td>\n",
       "      <td>10</td>\n",
       "      <td>1.0</td>\n",
       "      <td>III</td>\n",
       "      <td>0</td>\n",
       "      <td>2-5cm</td>\n",
       "      <td>10</td>\n",
       "    </tr>\n",
       "  </tbody>\n",
       "</table>\n",
       "<p>304 rows × 8 columns</p>\n",
       "</div>"
      ],
      "text/plain": [
       "       tyears  d  Karn  Broders FIGO  Ascites   Diam   id\n",
       "0    0.024657  1     8      2.0   IV        1  1-2cm  281\n",
       "1    0.027398  1     6      NaN   IV        1   >5cm  298\n",
       "2    0.035617  1     8      2.0   IV        1   >5cm  342\n",
       "3    0.041094  1     7      2.0  III        0   <1cm  228\n",
       "4    0.082192  1     7      3.0   IV        1   <1cm   52\n",
       "..        ... ..   ...      ...  ...      ...    ...  ...\n",
       "299  7.060274  0    10      3.0  III        0   >5cm  101\n",
       "300  7.112330  0    10      1.0  III        1   >5cm   93\n",
       "301  7.120548  0     9      2.0  III        1   <1cm   40\n",
       "302  7.290410  0     9      2.0   IV        1  1-2cm   81\n",
       "303  7.476712  0    10      1.0  III        0  2-5cm   10\n",
       "\n",
       "[304 rows x 8 columns]"
      ]
     },
     "execution_count": 6,
     "metadata": {},
     "output_type": "execute_result"
    }
   ],
   "source": [
    "df_tied = pd.read_csv('../data/ovarian_deduplicated.csv')\n",
    "df_tied"
   ]
  },
  {
   "cell_type": "code",
   "execution_count": 7,
   "metadata": {},
   "outputs": [],
   "source": [
    "coxmod = TorchCox.TorchCox()\n",
    "\n",
    "tname = 'tyears'\n",
    "Xnames = ['Karn', 'Ascites']\n",
    "dname = 'd'"
   ]
  },
  {
   "cell_type": "code",
   "execution_count": 8,
   "metadata": {},
   "outputs": [],
   "source": [
    "#sudo pip install rpy2"
   ]
  },
  {
   "cell_type": "code",
   "execution_count": 9,
   "metadata": {},
   "outputs": [],
   "source": [
    "%load_ext rpy2.ipython"
   ]
  },
  {
   "cell_type": "code",
   "execution_count": 10,
   "metadata": {},
   "outputs": [
    {
     "name": "stderr",
     "output_type": "stream",
     "text": [
      "R[write to console]: \n",
      "Attaching package: ‘dplyr’\n",
      "\n",
      "\n",
      "R[write to console]: The following objects are masked from ‘package:stats’:\n",
      "\n",
      "    filter, lag\n",
      "\n",
      "\n",
      "R[write to console]: The following objects are masked from ‘package:base’:\n",
      "\n",
      "    intersect, setdiff, setequal, union\n",
      "\n",
      "\n",
      "R[write to console]: Parsed with column specification:\n",
      "cols(\n",
      "  tyears = \u001b[32mcol_double()\u001b[39m,\n",
      "  d = \u001b[32mcol_double()\u001b[39m,\n",
      "  Karn = \u001b[32mcol_double()\u001b[39m,\n",
      "  Broders = \u001b[32mcol_double()\u001b[39m,\n",
      "  FIGO = \u001b[31mcol_character()\u001b[39m,\n",
      "  Ascites = \u001b[32mcol_double()\u001b[39m,\n",
      "  Diam = \u001b[31mcol_character()\u001b[39m,\n",
      "  id = \u001b[32mcol_double()\u001b[39m\n",
      ")\n",
      "\n"
     ]
    },
    {
     "name": "stdout",
     "output_type": "stream",
     "text": [
      "      Karn    Ascites \n",
      "-0.2364006  0.4170308 \n",
      "Time difference of 0.02595592 secs\n"
     ]
    }
   ],
   "source": [
    "%%R\n",
    "library(readr)\n",
    "library(survival)\n",
    "library(dplyr)\n",
    "library(tidyr)\n",
    "\n",
    "df2 = read_csv(\"/home/ilan/Desktop/TorchCox/data/ovarian_deduplicated.csv\")\n",
    "\n",
    "starttime = Sys.time()\n",
    "\n",
    "rmod = coxph(Surv(tyears, d) ~ Karn + Ascites, df2, ties=\"breslow\")\n",
    "print(coef(rmod))\n",
    "\n",
    "endtime = Sys.time()\n",
    "\n",
    "print(endtime-starttime)"
   ]
  },
  {
   "cell_type": "code",
   "execution_count": 11,
   "metadata": {},
   "outputs": [
    {
     "name": "stdout",
     "output_type": "stream",
     "text": [
      "[-0.23638311  0.4170416 ]\n",
      "CPU times: user 944 ms, sys: 9.92 ms, total: 954 ms\n",
      "Wall time: 276 ms\n"
     ]
    }
   ],
   "source": [
    "%%time\n",
    "\n",
    "coxmod.fit(df_tied, Xnames=Xnames, tname=tname, dname=dname, basehaz=False)"
   ]
  },
  {
   "cell_type": "markdown",
   "metadata": {},
   "source": [
    "We indeed match that result as well!  \n",
    "\n",
    "We are about 10x slower than the R package (which runs on C code in the background). But simplicity and extensibility of our code compensates for that in my view.  \n",
    "\n",
    "(Also timings here most likely dominated by overhead of loading libraries, comparison on larger dataset required.)"
   ]
  },
  {
   "cell_type": "markdown",
   "metadata": {},
   "source": [
    "To be more specific, R's survival package is a blazingly fast and mature package, however the cost of this is that the code itself is non-trivial to edit or modify, see e.g.\n",
    "https://github.com/therneau/survival/blob/master/src/coxfit6.c"
   ]
  },
  {
   "cell_type": "markdown",
   "metadata": {},
   "source": [
    "Contrast this with the code for this implementation which is comparably readable and can be found in `torchcox/TorchCox.py`. You can easily see how you could modify the likelihood there to insert regularisation, change the optimiser, modify the log-linear dependence on the covariates, etc."
   ]
  },
  {
   "cell_type": "markdown",
   "metadata": {},
   "source": [
    "Fit the model again, but this time computing the baseline hazard, to ensure that works as well."
   ]
  },
  {
   "cell_type": "code",
   "execution_count": 12,
   "metadata": {},
   "outputs": [
    {
     "name": "stdout",
     "output_type": "stream",
     "text": [
      "[-0.23638311  0.4170416 ]\n",
      "CPU times: user 2.2 s, sys: 95 ms, total: 2.29 s\n",
      "Wall time: 1.59 s\n"
     ]
    }
   ],
   "source": [
    "%%time\n",
    "\n",
    "coxmod.fit(df_tied, Xnames=Xnames, tname=tname, dname=dname, basehaz=True)"
   ]
  },
  {
   "cell_type": "code",
   "execution_count": 13,
   "metadata": {},
   "outputs": [
    {
     "data": {
      "text/html": [
       "<div>\n",
       "<style scoped>\n",
       "    .dataframe tbody tr th:only-of-type {\n",
       "        vertical-align: middle;\n",
       "    }\n",
       "\n",
       "    .dataframe tbody tr th {\n",
       "        vertical-align: top;\n",
       "    }\n",
       "\n",
       "    .dataframe thead th {\n",
       "        text-align: right;\n",
       "    }\n",
       "</style>\n",
       "<table border=\"1\" class=\"dataframe\">\n",
       "  <thead>\n",
       "    <tr style=\"text-align: right;\">\n",
       "      <th></th>\n",
       "      <th>time</th>\n",
       "      <th>h0</th>\n",
       "      <th>H0</th>\n",
       "    </tr>\n",
       "  </thead>\n",
       "  <tbody>\n",
       "    <tr>\n",
       "      <th>0</th>\n",
       "      <td>0.024657240259862743</td>\n",
       "      <td>0.018764267</td>\n",
       "      <td>0.018764267</td>\n",
       "    </tr>\n",
       "    <tr>\n",
       "      <th>1</th>\n",
       "      <td>0.02739761676265909</td>\n",
       "      <td>0.018845245</td>\n",
       "      <td>0.0376095</td>\n",
       "    </tr>\n",
       "    <tr>\n",
       "      <th>2</th>\n",
       "      <td>0.03561695837826295</td>\n",
       "      <td>0.018976642</td>\n",
       "      <td>0.0565862</td>\n",
       "    </tr>\n",
       "    <tr>\n",
       "      <th>3</th>\n",
       "      <td>0.04109387045962334</td>\n",
       "      <td>0.019059468</td>\n",
       "      <td>0.0756456</td>\n",
       "    </tr>\n",
       "    <tr>\n",
       "      <th>4</th>\n",
       "      <td>0.08219248033739741</td>\n",
       "      <td>0.019129159</td>\n",
       "      <td>0.0947748</td>\n",
       "    </tr>\n",
       "    <tr>\n",
       "      <th>...</th>\n",
       "      <td>...</td>\n",
       "      <td>...</td>\n",
       "      <td>...</td>\n",
       "    </tr>\n",
       "    <tr>\n",
       "      <th>299</th>\n",
       "      <td>7.0602742018236055</td>\n",
       "      <td>1.4441799</td>\n",
       "      <td>28.2556</td>\n",
       "    </tr>\n",
       "    <tr>\n",
       "      <th>300</th>\n",
       "      <td>7.112329818483311</td>\n",
       "      <td>1.671192</td>\n",
       "      <td>29.9268</td>\n",
       "    </tr>\n",
       "    <tr>\n",
       "      <th>301</th>\n",
       "      <td>7.120547803885543</td>\n",
       "      <td>2.1946971</td>\n",
       "      <td>32.1215</td>\n",
       "    </tr>\n",
       "    <tr>\n",
       "      <th>302</th>\n",
       "      <td>7.290409766965798</td>\n",
       "      <td>3.6383288</td>\n",
       "      <td>35.7598</td>\n",
       "    </tr>\n",
       "    <tr>\n",
       "      <th>303</th>\n",
       "      <td>7.476712205963872</td>\n",
       "      <td>10.631603</td>\n",
       "      <td>46.3914</td>\n",
       "    </tr>\n",
       "  </tbody>\n",
       "</table>\n",
       "<p>304 rows × 3 columns</p>\n",
       "</div>"
      ],
      "text/plain": [
       "                     time           h0           H0\n",
       "0    0.024657240259862743  0.018764267  0.018764267\n",
       "1     0.02739761676265909  0.018845245    0.0376095\n",
       "2     0.03561695837826295  0.018976642    0.0565862\n",
       "3     0.04109387045962334  0.019059468    0.0756456\n",
       "4     0.08219248033739741  0.019129159    0.0947748\n",
       "..                    ...          ...          ...\n",
       "299    7.0602742018236055    1.4441799      28.2556\n",
       "300     7.112329818483311     1.671192      29.9268\n",
       "301     7.120547803885543    2.1946971      32.1215\n",
       "302     7.290409766965798    3.6383288      35.7598\n",
       "303     7.476712205963872    10.631603      46.3914\n",
       "\n",
       "[304 rows x 3 columns]"
      ]
     },
     "execution_count": 13,
     "metadata": {},
     "output_type": "execute_result"
    }
   ],
   "source": [
    "coxmod.basehaz"
   ]
  },
  {
   "cell_type": "markdown",
   "metadata": {},
   "source": [
    "Predict on the training set to ensure predict_proba() method works as well."
   ]
  },
  {
   "cell_type": "code",
   "execution_count": 14,
   "metadata": {
    "scrolled": true
   },
   "outputs": [
    {
     "data": {
      "text/html": [
       "<div>\n",
       "<style scoped>\n",
       "    .dataframe tbody tr th:only-of-type {\n",
       "        vertical-align: middle;\n",
       "    }\n",
       "\n",
       "    .dataframe tbody tr th {\n",
       "        vertical-align: top;\n",
       "    }\n",
       "\n",
       "    .dataframe thead th {\n",
       "        text-align: right;\n",
       "    }\n",
       "</style>\n",
       "<table border=\"1\" class=\"dataframe\">\n",
       "  <thead>\n",
       "    <tr style=\"text-align: right;\">\n",
       "      <th></th>\n",
       "      <th>tyears</th>\n",
       "      <th>d</th>\n",
       "      <th>Karn</th>\n",
       "      <th>Broders</th>\n",
       "      <th>FIGO</th>\n",
       "      <th>Ascites</th>\n",
       "      <th>Diam</th>\n",
       "      <th>id</th>\n",
       "      <th>pred</th>\n",
       "    </tr>\n",
       "  </thead>\n",
       "  <tbody>\n",
       "    <tr>\n",
       "      <th>0</th>\n",
       "      <td>0.024657</td>\n",
       "      <td>1</td>\n",
       "      <td>8</td>\n",
       "      <td>2.0</td>\n",
       "      <td>IV</td>\n",
       "      <td>1</td>\n",
       "      <td>1-2cm</td>\n",
       "      <td>281</td>\n",
       "      <td>0.995712</td>\n",
       "    </tr>\n",
       "    <tr>\n",
       "      <th>1</th>\n",
       "      <td>0.027398</td>\n",
       "      <td>1</td>\n",
       "      <td>6</td>\n",
       "      <td>NaN</td>\n",
       "      <td>IV</td>\n",
       "      <td>1</td>\n",
       "      <td>&gt;5cm</td>\n",
       "      <td>298</td>\n",
       "      <td>0.986277</td>\n",
       "    </tr>\n",
       "    <tr>\n",
       "      <th>2</th>\n",
       "      <td>0.035617</td>\n",
       "      <td>1</td>\n",
       "      <td>8</td>\n",
       "      <td>2.0</td>\n",
       "      <td>IV</td>\n",
       "      <td>1</td>\n",
       "      <td>&gt;5cm</td>\n",
       "      <td>342</td>\n",
       "      <td>0.987125</td>\n",
       "    </tr>\n",
       "    <tr>\n",
       "      <th>3</th>\n",
       "      <td>0.041094</td>\n",
       "      <td>1</td>\n",
       "      <td>7</td>\n",
       "      <td>2.0</td>\n",
       "      <td>III</td>\n",
       "      <td>0</td>\n",
       "      <td>&lt;1cm</td>\n",
       "      <td>228</td>\n",
       "      <td>0.985644</td>\n",
       "    </tr>\n",
       "    <tr>\n",
       "      <th>4</th>\n",
       "      <td>0.082192</td>\n",
       "      <td>1</td>\n",
       "      <td>7</td>\n",
       "      <td>3.0</td>\n",
       "      <td>IV</td>\n",
       "      <td>1</td>\n",
       "      <td>&lt;1cm</td>\n",
       "      <td>52</td>\n",
       "      <td>0.972883</td>\n",
       "    </tr>\n",
       "    <tr>\n",
       "      <th>...</th>\n",
       "      <td>...</td>\n",
       "      <td>...</td>\n",
       "      <td>...</td>\n",
       "      <td>...</td>\n",
       "      <td>...</td>\n",
       "      <td>...</td>\n",
       "      <td>...</td>\n",
       "      <td>...</td>\n",
       "      <td>...</td>\n",
       "    </tr>\n",
       "    <tr>\n",
       "      <th>299</th>\n",
       "      <td>7.060274</td>\n",
       "      <td>0</td>\n",
       "      <td>10</td>\n",
       "      <td>3.0</td>\n",
       "      <td>III</td>\n",
       "      <td>0</td>\n",
       "      <td>&gt;5cm</td>\n",
       "      <td>101</td>\n",
       "      <td>0.070109</td>\n",
       "    </tr>\n",
       "    <tr>\n",
       "      <th>300</th>\n",
       "      <td>7.112330</td>\n",
       "      <td>0</td>\n",
       "      <td>10</td>\n",
       "      <td>1.0</td>\n",
       "      <td>III</td>\n",
       "      <td>1</td>\n",
       "      <td>&gt;5cm</td>\n",
       "      <td>93</td>\n",
       "      <td>0.013961</td>\n",
       "    </tr>\n",
       "    <tr>\n",
       "      <th>301</th>\n",
       "      <td>7.120548</td>\n",
       "      <td>0</td>\n",
       "      <td>9</td>\n",
       "      <td>2.0</td>\n",
       "      <td>III</td>\n",
       "      <td>1</td>\n",
       "      <td>&lt;1cm</td>\n",
       "      <td>40</td>\n",
       "      <td>0.003005</td>\n",
       "    </tr>\n",
       "    <tr>\n",
       "      <th>302</th>\n",
       "      <td>7.290410</td>\n",
       "      <td>0</td>\n",
       "      <td>9</td>\n",
       "      <td>2.0</td>\n",
       "      <td>IV</td>\n",
       "      <td>1</td>\n",
       "      <td>1-2cm</td>\n",
       "      <td>81</td>\n",
       "      <td>0.001557</td>\n",
       "    </tr>\n",
       "    <tr>\n",
       "      <th>303</th>\n",
       "      <td>7.476712</td>\n",
       "      <td>0</td>\n",
       "      <td>10</td>\n",
       "      <td>1.0</td>\n",
       "      <td>III</td>\n",
       "      <td>0</td>\n",
       "      <td>2-5cm</td>\n",
       "      <td>10</td>\n",
       "      <td>0.012733</td>\n",
       "    </tr>\n",
       "  </tbody>\n",
       "</table>\n",
       "<p>304 rows × 9 columns</p>\n",
       "</div>"
      ],
      "text/plain": [
       "       tyears  d  Karn  Broders FIGO  Ascites   Diam   id      pred\n",
       "0    0.024657  1     8      2.0   IV        1  1-2cm  281  0.995712\n",
       "1    0.027398  1     6      NaN   IV        1   >5cm  298  0.986277\n",
       "2    0.035617  1     8      2.0   IV        1   >5cm  342  0.987125\n",
       "3    0.041094  1     7      2.0  III        0   <1cm  228  0.985644\n",
       "4    0.082192  1     7      3.0   IV        1   <1cm   52  0.972883\n",
       "..        ... ..   ...      ...  ...      ...    ...  ...       ...\n",
       "299  7.060274  0    10      3.0  III        0   >5cm  101  0.070109\n",
       "300  7.112330  0    10      1.0  III        1   >5cm   93  0.013961\n",
       "301  7.120548  0     9      2.0  III        1   <1cm   40  0.003005\n",
       "302  7.290410  0     9      2.0   IV        1  1-2cm   81  0.001557\n",
       "303  7.476712  0    10      1.0  III        0  2-5cm   10  0.012733\n",
       "\n",
       "[304 rows x 9 columns]"
      ]
     },
     "execution_count": 14,
     "metadata": {},
     "output_type": "execute_result"
    }
   ],
   "source": [
    "df_tied['pred'] = coxmod.predict_proba(df_tied, Xnames=Xnames, tname=tname)\n",
    "df_tied"
   ]
  },
  {
   "cell_type": "markdown",
   "metadata": {},
   "source": [
    "In summary what are some of the reasons why one might consider implementing a well-known statistical model in a differentiable programming language like PyTorch?\n",
    "- Extensibility: changes to loss function or optimisation algorithm are often one-line changes\n",
    "- Scalability: functionality to deploy across multiple CPUs or GPUs is often built in or easy to include\n",
    "- Mobile deployment: if relevant, models can be deployed on mobile devices (Android or iOS)\n",
    "- Automatic differentiation: computing confidence intervals originally involved computing second derivatives by hand and implementing the result in the code, with differentiable programming simply changing the loss is sufficient, the computation of second derivatives is automatic (provided loss is twice-differentiable, obviously)\n",
    "- Ecosystem: integration with existing PyTorch libraries (see https://pytorch.org/ecosystem/) to add all sorts of functionality should be straightforward "
   ]
  },
  {
   "cell_type": "code",
   "execution_count": null,
   "metadata": {},
   "outputs": [],
   "source": []
  }
 ],
 "metadata": {
  "kernelspec": {
   "display_name": "Python 3",
   "language": "python",
   "name": "python3"
  },
  "language_info": {
   "codemirror_mode": {
    "name": "ipython",
    "version": 3
   },
   "file_extension": ".py",
   "mimetype": "text/x-python",
   "name": "python",
   "nbconvert_exporter": "python",
   "pygments_lexer": "ipython3",
   "version": "3.8.5"
  }
 },
 "nbformat": 4,
 "nbformat_minor": 4
}
